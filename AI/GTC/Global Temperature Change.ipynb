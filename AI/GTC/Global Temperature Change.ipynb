{
 "cells": [
  {
   "cell_type": "code",
   "execution_count": null,
   "id": "2aa357de-1033-420e-87c9-5fcdb66018bb",
   "metadata": {},
   "outputs": [],
   "source": [
    "import utils \n",
    "import pandas as pd\n",
    "import numpy as np\n",
    "import IPython\n",
    "from itables import init_notebook_mode\n",
    "init_notebook_mode(all_interactive = False)\n",
    "print('All packages imported successfully!')"
   ]
  },
  {
   "cell_type": "code",
   "execution_count": null,
   "id": "af7fe38b-6621-48aa-b611-b79c7dbcaa92",
   "metadata": {},
   "outputs": [],
   "source": [
    "temperature_data = pd.read_csv('E:/openai/data/global_temperature.csv') #import the data\n",
    "temperature_data.columns.values[4:] = temperature_data.columns[4:].map(int) #column names to int for easy manipulation\n",
    "print('the dataset contains', len(temperature_data), 'rows')\n",
    "temperature_data.tail()"
   ]
  },
  {
   "cell_type": "code",
   "execution_count": null,
   "id": "d045956b-d506-49a4-81cd-4187eb6bf919",
   "metadata": {},
   "outputs": [],
   "source": [
    "plot_data = temperature_data[np.array(range(1880,2022,1))]"
   ]
  },
  {
   "cell_type": "code",
   "execution_count": null,
   "id": "89b81b1e-b057-4192-9be8-f71e06b60f39",
   "metadata": {},
   "outputs": [],
   "source": [
    "diff = plot_data.sub(plot_data.iloc[:, 101:132].dropna().mean(axis=1) - 0.69, axis=0)  "
   ]
  },
  {
   "cell_type": "code",
   "execution_count": null,
   "id": "e054213f-e82b-4ca2-ac72-dde759c1855a",
   "metadata": {},
   "outputs": [],
   "source": [
    "utils.bar_global(diff)"
   ]
  },
  {
   "cell_type": "code",
   "execution_count": null,
   "id": "a90cec72-3418-4f72-aa62-4d81d778ae48",
   "metadata": {},
   "outputs": [],
   "source": [
    "utils.local_temp_map(temperature_data)"
   ]
  },
  {
   "cell_type": "code",
   "execution_count": null,
   "id": "6014b99d-c899-4b32-8497-e2fb219b8cc0",
   "metadata": {},
   "outputs": [],
   "source": [
    "utils.slider_global_temp()"
   ]
  },
  {
   "cell_type": "code",
   "execution_count": null,
   "id": "bb74cbaf-d7f0-4abb-a38b-c187f83ab284",
   "metadata": {},
   "outputs": [],
   "source": [
    "#https://climate.nasa.gov/images-of-change/?id=796#796-collapsing-ice-shelf-reveals-a-possible-new-island-eastern-antarctica\n",
    "src = 'https://cdn.knightlab.com/libs/juxtapose/latest/embed/index.html?uid=dab72496-6d1f-11ed-b5bd-6595d9b17862'\n",
    "IPython.display.IFrame(src, width = 700, height = 720)"
   ]
  },
  {
   "cell_type": "code",
   "execution_count": null,
   "id": "8f8a44f7-4c5f-4ba8-a5a1-02f8c9ca481f",
   "metadata": {},
   "outputs": [],
   "source": [
    "#https://climate.nasa.gov/images-of-change/?id=778#778-melting-glaciers-enlarge-lakes-on-tibetan-plateau\n",
    "src = 'https://cdn.knightlab.com/libs/juxtapose/latest/embed/index.html?uid=269f7416-6d21-11ed-b5bd-6595d9b17862'\n",
    "IPython.display.IFrame(src, width = 750, height = 520)"
   ]
  },
  {
   "cell_type": "code",
   "execution_count": null,
   "id": "80fb8a04-8d2f-41a3-80ac-efdc6706375c",
   "metadata": {},
   "outputs": [],
   "source": [
    "#https://climate.nasa.gov/images-of-change?id=777#777-grand-plateau-glacier-retreats\n",
    "src = 'https://cdn.knightlab.com/libs/juxtapose/latest/embed/index.html?uid=0c37b40e-7027-11ed-b5bd-6595d9b17862'\n",
    "IPython.display.IFrame(src, width = 700, height = 550)"
   ]
  },
  {
   "cell_type": "code",
   "execution_count": null,
   "id": "b7ee8beb-1eb4-4d27-8793-80116dfbf0da",
   "metadata": {},
   "outputs": [],
   "source": []
  }
 ],
 "metadata": {
  "kernelspec": {
   "display_name": "Python 3 (ipykernel)",
   "language": "python",
   "name": "python3"
  },
  "language_info": {
   "codemirror_mode": {
    "name": "ipython",
    "version": 3
   },
   "file_extension": ".py",
   "mimetype": "text/x-python",
   "name": "python",
   "nbconvert_exporter": "python",
   "pygments_lexer": "ipython3",
   "version": "3.9.7"
  }
 },
 "nbformat": 4,
 "nbformat_minor": 5
}
