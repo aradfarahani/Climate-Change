{
 "cells": [
  {
   "cell_type": "code",
   "execution_count": 1,
   "id": "1d33bfd4-71bd-4fe9-ac29-9f1fa1f5afb3",
   "metadata": {},
   "outputs": [
    {
     "name": "stderr",
     "output_type": "stream",
     "text": [
      "2023-08-12 00:53:06,445 INFO Welcome to the CDS\n",
      "2023-08-12 00:53:06,448 INFO Sending request to https://cds.climate.copernicus.eu/api/v2/resources/reanalysis-era5-land-monthly-means\n",
      "2023-08-12 00:53:06,649 INFO Request is queued\n",
      "2023-08-12 01:05:35,257 INFO Request is completed\n",
      "2023-08-12 01:05:35,259 INFO Downloading https://download-0011-clone.copernicus-climate.eu/cache-compute-0011/cache/data5/adaptor.mars.internal-1691789677.5640478-20790-2-5a4356b1-f303-4f78-a822-8156ec9b5c60.zip to download.netcdf.zip (73.5M)\n",
      "2023-08-12 01:19:02,575 ERROR Download interupted: HTTPSConnectionPool(host='download-0011-clone.copernicus-climate.eu', port=443): Read timed out.\n",
      "2023-08-12 01:19:02,579 ERROR Download incomplete, downloaded 41329664 byte(s) out of 77073404\n",
      "2023-08-12 01:19:02,580 WARNING Sleeping 10 seconds\n",
      "2023-08-12 01:19:12,588 WARNING Resuming download at byte 41329664\n",
      "2023-08-12 01:21:12,237 INFO Download rate 80.3K/s                                                                     \n"
     ]
    },
    {
     "data": {
      "text/plain": [
       "Result(content_length=77073404,content_type=application/zip,location=https://download-0011-clone.copernicus-climate.eu/cache-compute-0011/cache/data5/adaptor.mars.internal-1691789677.5640478-20790-2-5a4356b1-f303-4f78-a822-8156ec9b5c60.zip)"
      ]
     },
     "execution_count": 1,
     "metadata": {},
     "output_type": "execute_result"
    }
   ],
   "source": [
    "import cdsapi\n",
    "\n",
    "c = cdsapi.Client()\n",
    "\n",
    "c.retrieve(\n",
    "    'reanalysis-era5-land-monthly-means',\n",
    "    {\n",
    "        'product_type': 'monthly_averaged_reanalysis',\n",
    "        'variable': [\n",
    "            'leaf_area_index_low_vegetation', 'runoff', 'skin_reservoir_content',\n",
    "            'skin_temperature', 'snow_cover', 'snow_depth',\n",
    "            'snow_evaporation', 'snowfall', 'snowmelt',\n",
    "            'total_evaporation', 'total_precipitation',\n",
    "        ],\n",
    "        'year': [\n",
    "            '2000', '2001', '2002',\n",
    "            '2003', '2004', '2005',\n",
    "            '2006', '2007', '2008',\n",
    "            '2009', '2010', '2011',\n",
    "            '2012', '2013', '2014',\n",
    "            '2015', '2016', '2017',\n",
    "            '2018', '2019', '2020',\n",
    "            '2021',\n",
    "        ],\n",
    "        'month': [\n",
    "            '01', '02', '03',\n",
    "            '04', '05', '06',\n",
    "            '07', '08', '09',\n",
    "            '10', '11', '12',\n",
    "        ],\n",
    "        'time': '00:00',\n",
    "        'area': [\n",
    "            41.29, 44.69, 22.51,\n",
    "            62.13,\n",
    "        ],\n",
    "        'format': 'netcdf.zip',\n",
    "    },\n",
    "    'download.netcdf.zip')"
   ]
  },
  {
   "cell_type": "code",
   "execution_count": null,
   "id": "927ecb08-c78e-4d15-ad4a-bcb14e4be59d",
   "metadata": {},
   "outputs": [],
   "source": []
  }
 ],
 "metadata": {
  "kernelspec": {
   "display_name": "Python 3 (ipykernel)",
   "language": "python",
   "name": "python3"
  },
  "language_info": {
   "codemirror_mode": {
    "name": "ipython",
    "version": 3
   },
   "file_extension": ".py",
   "mimetype": "text/x-python",
   "name": "python",
   "nbconvert_exporter": "python",
   "pygments_lexer": "ipython3",
   "version": "3.9.7"
  }
 },
 "nbformat": 4,
 "nbformat_minor": 5
}
